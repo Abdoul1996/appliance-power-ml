{
 "cells": [
  {
   "cell_type": "code",
   "execution_count": null,
   "id": "59372fb8",
   "metadata": {},
   "outputs": [],
   "source": [
    "# Model Evaluation Notebook\n",
    "from src.model import evaluate_model"
   ]
  }
 ],
 "metadata": {},
 "nbformat": 4,
 "nbformat_minor": 5
}
